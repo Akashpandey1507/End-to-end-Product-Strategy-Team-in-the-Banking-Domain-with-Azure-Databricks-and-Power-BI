{
 "cells": [
  {
   "cell_type": "code",
   "execution_count": 1,
   "metadata": {},
   "outputs": [
    {
     "name": "stdout",
     "output_type": "stream",
     "text": [
      "Collecting azure-storage-blob\n",
      "  Obtaining dependency information for azure-storage-blob from https://files.pythonhosted.org/packages/f6/82/24b0d7cf67ea63af86f11092756b8fe2adc1d55323241dc4107f5f5748e2/azure_storage_blob-12.19.0-py3-none-any.whl.metadata\n",
      "  Downloading azure_storage_blob-12.19.0-py3-none-any.whl.metadata (26 kB)\n",
      "Collecting azure-core<2.0.0,>=1.28.0 (from azure-storage-blob)\n",
      "  Obtaining dependency information for azure-core<2.0.0,>=1.28.0 from https://files.pythonhosted.org/packages/9c/f8/1cf23a75cb8c2755c539ac967f3a7f607887c4979d073808134803720f0f/azure_core-1.29.5-py3-none-any.whl.metadata\n",
      "  Downloading azure_core-1.29.5-py3-none-any.whl.metadata (36 kB)\n",
      "Requirement already satisfied: cryptography>=2.1.4 in c:\\users\\rg67266\\appdata\\local\\packages\\pythonsoftwarefoundation.python.3.11_qbz5n2kfra8p0\\localcache\\local-packages\\python311\\site-packages (from azure-storage-blob) (41.0.1)\n",
      "Collecting typing-extensions>=4.3.0 (from azure-storage-blob)\n",
      "  Obtaining dependency information for typing-extensions>=4.3.0 from https://files.pythonhosted.org/packages/24/21/7d397a4b7934ff4028987914ac1044d3b7d52712f30e2ac7a2ae5bc86dd0/typing_extensions-4.8.0-py3-none-any.whl.metadata\n",
      "  Downloading typing_extensions-4.8.0-py3-none-any.whl.metadata (3.0 kB)\n",
      "Collecting isodate>=0.6.1 (from azure-storage-blob)\n",
      "  Downloading isodate-0.6.1-py2.py3-none-any.whl (41 kB)\n",
      "     ---------------------------------------- 0.0/41.7 kB ? eta -:--:--\n",
      "     ---------------------------------------  41.0/41.7 kB ? eta -:--:--\n",
      "     -------------------------------------- 41.7/41.7 kB 507.8 kB/s eta 0:00:00\n",
      "Requirement already satisfied: requests>=2.18.4 in c:\\users\\rg67266\\appdata\\local\\packages\\pythonsoftwarefoundation.python.3.11_qbz5n2kfra8p0\\localcache\\local-packages\\python311\\site-packages (from azure-core<2.0.0,>=1.28.0->azure-storage-blob) (2.28.2)\n",
      "Requirement already satisfied: six>=1.11.0 in c:\\users\\rg67266\\appdata\\local\\packages\\pythonsoftwarefoundation.python.3.11_qbz5n2kfra8p0\\localcache\\local-packages\\python311\\site-packages (from azure-core<2.0.0,>=1.28.0->azure-storage-blob) (1.16.0)\n",
      "Requirement already satisfied: cffi>=1.12 in c:\\users\\rg67266\\appdata\\local\\packages\\pythonsoftwarefoundation.python.3.11_qbz5n2kfra8p0\\localcache\\local-packages\\python311\\site-packages (from cryptography>=2.1.4->azure-storage-blob) (1.15.1)\n",
      "Requirement already satisfied: pycparser in c:\\users\\rg67266\\appdata\\local\\packages\\pythonsoftwarefoundation.python.3.11_qbz5n2kfra8p0\\localcache\\local-packages\\python311\\site-packages (from cffi>=1.12->cryptography>=2.1.4->azure-storage-blob) (2.21)\n",
      "Requirement already satisfied: charset-normalizer<4,>=2 in c:\\users\\rg67266\\appdata\\local\\packages\\pythonsoftwarefoundation.python.3.11_qbz5n2kfra8p0\\localcache\\local-packages\\python311\\site-packages (from requests>=2.18.4->azure-core<2.0.0,>=1.28.0->azure-storage-blob) (3.1.0)\n",
      "Requirement already satisfied: idna<4,>=2.5 in c:\\users\\rg67266\\appdata\\local\\packages\\pythonsoftwarefoundation.python.3.11_qbz5n2kfra8p0\\localcache\\local-packages\\python311\\site-packages (from requests>=2.18.4->azure-core<2.0.0,>=1.28.0->azure-storage-blob) (3.4)\n",
      "Requirement already satisfied: urllib3<1.27,>=1.21.1 in c:\\users\\rg67266\\appdata\\local\\packages\\pythonsoftwarefoundation.python.3.11_qbz5n2kfra8p0\\localcache\\local-packages\\python311\\site-packages (from requests>=2.18.4->azure-core<2.0.0,>=1.28.0->azure-storage-blob) (1.26.15)\n",
      "Requirement already satisfied: certifi>=2017.4.17 in c:\\users\\rg67266\\appdata\\local\\packages\\pythonsoftwarefoundation.python.3.11_qbz5n2kfra8p0\\localcache\\local-packages\\python311\\site-packages (from requests>=2.18.4->azure-core<2.0.0,>=1.28.0->azure-storage-blob) (2022.12.7)\n",
      "Downloading azure_storage_blob-12.19.0-py3-none-any.whl (394 kB)\n",
      "   ---------------------------------------- 0.0/394.2 kB ? eta -:--:--\n",
      "   --------------------------------------  389.1/394.2 kB 11.8 MB/s eta 0:00:01\n",
      "   --------------------------------------  389.1/394.2 kB 11.8 MB/s eta 0:00:01\n",
      "   ---------------------------------------- 394.2/394.2 kB 3.5 MB/s eta 0:00:00\n",
      "Downloading azure_core-1.29.5-py3-none-any.whl (192 kB)\n",
      "   ---------------------------------------- 0.0/192.4 kB ? eta -:--:--\n",
      "   -------------------------------------- - 184.3/192.4 kB ? eta -:--:--\n",
      "   -------------------------------------- - 184.3/192.4 kB ? eta -:--:--\n",
      "   ---------------------------------------- 192.4/192.4 kB 1.9 MB/s eta 0:00:00\n",
      "Downloading typing_extensions-4.8.0-py3-none-any.whl (31 kB)\n",
      "Installing collected packages: typing-extensions, isodate, azure-core, azure-storage-blob\n",
      "Successfully installed azure-core-1.29.5 azure-storage-blob-12.19.0 isodate-0.6.1 typing-extensions-4.8.0\n"
     ]
    },
    {
     "name": "stderr",
     "output_type": "stream",
     "text": [
      "\n",
      "[notice] A new release of pip is available: 23.2.1 -> 23.3.1\n",
      "[notice] To update, run: C:\\Users\\rg67266\\AppData\\Local\\Microsoft\\WindowsApps\\PythonSoftwareFoundation.Python.3.11_qbz5n2kfra8p0\\python.exe -m pip install --upgrade pip\n"
     ]
    }
   ],
   "source": [
    "!pip install azure-storage-blob"
   ]
  },
  {
   "cell_type": "code",
   "execution_count": 4,
   "metadata": {},
   "outputs": [],
   "source": [
    "from azure.storage.blob import BlobServiceClient, BlobClient, ContainerClient\n",
    "\n",
    "# Replace these variables with your Azure Storage account credentials\n",
    "account_name = 'adlsstoage'\n",
    "account_key = # Enter the key\n",
    "container_name = 'banking'\n",
    "local_file_path = r'd:\\rg67266\\Downloads\\C8_Input_Files\\C8_Input_Files\\problem_statement.pdf'\n",
    "blob_name = 'information'\n",
    "\n",
    "# Create a BlobServiceClient\n",
    "blob_service_client = BlobServiceClient(account_url=f\"https://{account_name}.blob.core.windows.net\", credential=account_key)\n",
    "\n",
    "# Create a ContainerClient\n",
    "container_client = blob_service_client.get_container_client(container_name)\n",
    "\n",
    "# Create a blob client\n",
    "blob_client = container_client.get_blob_client(blob_name)\n",
    "\n",
    "# Upload a file to the blob\n",
    "with open(local_file_path, \"rb\") as data:\n",
    "    blob_client.upload_blob(data)\n"
   ]
  }
 ],
 "metadata": {
  "kernelspec": {
   "display_name": "Python 3",
   "language": "python",
   "name": "python3"
  },
  "language_info": {
   "codemirror_mode": {
    "name": "ipython",
    "version": 3
   },
   "file_extension": ".py",
   "mimetype": "text/x-python",
   "name": "python",
   "nbconvert_exporter": "python",
   "pygments_lexer": "ipython3",
   "version": "3.11.6"
  }
 },
 "nbformat": 4,
 "nbformat_minor": 2
}
